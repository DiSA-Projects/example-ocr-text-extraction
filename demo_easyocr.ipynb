{
 "cells": [
  {
   "cell_type": "markdown",
   "id": "8a1019dc",
   "metadata": {},
   "source": [
    "## Text Extraction Methods (OCR)\n",
    "### Example 1: Using EasyOCR to Extract Text from Images or PDFs"
   ]
  },
  {
   "cell_type": "markdown",
   "id": "ef5abc3f",
   "metadata": {},
   "source": [
    "EasyOCR is an open source Python library (like PyTesseract) used to extract text from image files. \n",
    "\n",
    "Key features:\n",
    "- **Deep learning approach:** EasyOCR leverages deep learning models, specifically Convolutional Recurrent Neural Networks (CRNN) and Connectionist Temporal Classification (CTC), for text detection and recognition.\n",
    "- **Handles Noisy and Complex Images**: Excels at recognizing text in challenging conditions: noisy images, varying fonts, complex layouts, and distorted text.\n",
    "- **Less Preprocessing Required**: Deep learning approach means less extensive image preprocessing needed\n",
    "- **GPU Support**: Supports GPU acceleration for faster processing\n",
    "\n",
    "Combining this with the pdf2image library, you can extract pages from a PDF as images, then process them with EasyOCR"
   ]
  },
  {
   "cell_type": "markdown",
   "id": "05b76e0e",
   "metadata": {},
   "source": [
    "#### Step 1: Setup libraries and global definitions"
   ]
  },
  {
   "cell_type": "markdown",
   "id": "51b9b2df",
   "metadata": {},
   "source": [
    "Install easyocr and pdf2image libraries and their dependencies. Also create a **reader** to process text of a particular language or set of languages."
   ]
  },
  {
   "cell_type": "code",
   "execution_count": null,
   "id": "36b5bf3c",
   "metadata": {},
   "outputs": [],
   "source": [
    "from pathlib import Path\n",
    "from PIL import Image\n",
    "import easyocr\n",
    "import os\n",
    "import pdf2image\n",
    "\n",
    "# Create an OCR reader object (indicate which languages are expected)\n",
    "reader = easyocr.Reader(['en'])"
   ]
  },
  {
   "cell_type": "markdown",
   "id": "b0eefae7",
   "metadata": {},
   "source": [
    "Define input and output directories. Place source images and pdfs in the input directory. "
   ]
  },
  {
   "cell_type": "code",
   "execution_count": null,
   "id": "ab600456",
   "metadata": {},
   "outputs": [],
   "source": [
    "input_dir = './input/'\n",
    "output_dir = './output/'\n"
   ]
  },
  {
   "cell_type": "markdown",
   "id": "530b1eb6",
   "metadata": {},
   "source": [
    "Pull lists of image files and pdf files from the input directory."
   ]
  },
  {
   "cell_type": "code",
   "execution_count": null,
   "id": "48449e45",
   "metadata": {},
   "outputs": [],
   "source": [
    "image_files = Path(input_dir).glob('*.jp[g|eg]')\n",
    "pdf_files = Path(input_dir).glob('*.pdf')"
   ]
  },
  {
   "cell_type": "markdown",
   "id": "cd765e2c",
   "metadata": {},
   "source": [
    "### Step 2: Define text extraction function"
   ]
  },
  {
   "cell_type": "markdown",
   "id": "9d9551da",
   "metadata": {},
   "source": [
    "Function to extract text from images using pytesseract."
   ]
  },
  {
   "cell_type": "code",
   "execution_count": null,
   "id": "c87dc1fd",
   "metadata": {},
   "outputs": [],
   "source": [
    "def img_to_text(files):\n",
    "    extracted_text = []\n",
    "    for file in files:\n",
    "        result = reader.readtext(file)\n",
    "        for detection in result:\n",
    "            text = detection[1]\n",
    "            extracted_text.append(text)  \n",
    "            print(text)  \n",
    "\n",
    "    full_text = \"\\n\".join(extracted_text)\n",
    "    return full_text\n"
   ]
  },
  {
   "cell_type": "markdown",
   "id": "3a11c846",
   "metadata": {},
   "source": [
    "### Step 3: Process images and PDFs in input folder"
   ]
  },
  {
   "cell_type": "markdown",
   "id": "7dc9bddb",
   "metadata": {},
   "source": [
    "#### A. Extract text from images"
   ]
  },
  {
   "cell_type": "code",
   "execution_count": null,
   "id": "16d0b721",
   "metadata": {},
   "outputs": [],
   "source": [
    "for file in image_files:    \n",
    "    img_filename = file.name[:len(file.name)-4].strip()      \n",
    "    extracted_text = []    \n",
    "    result = reader.readtext(f'{input_dir}{file.name}')\n",
    "    for detection in result:\n",
    "        text = detection[1]\n",
    "        extracted_text.append(text)          \n",
    "\n",
    "    full_text = \"\\n\".join(extracted_text)\n",
    "    print(full_text)\n",
    "    \n",
    "    # Write result to txt file\n",
    "    with open(f'{output_dir}easyocr_{img_filename}.txt','w',encoding='utf-8') as f:\n",
    "        f.write(full_text)"
   ]
  },
  {
   "cell_type": "markdown",
   "id": "d6f927a5",
   "metadata": {},
   "source": [
    "#### B. Extract text from pdfs"
   ]
  },
  {
   "cell_type": "code",
   "execution_count": null,
   "id": "bc1e6c8b",
   "metadata": {},
   "outputs": [],
   "source": [
    "# Convert pdf files\n",
    "for file in pdf_files:    \n",
    "    images = pdf2image.convert_from_path(file)\n",
    "    pdf_filename = file.name[:len(file.name)-4].strip()\n",
    "    pg_images = []\n",
    "    for pagenum,pagedata in enumerate(images):\n",
    "        image_filename = os.path.join(output_dir, f'{pdf_filename}_{pagenum+1}.jpg')\n",
    "        pagedata.save(image_filename,'JPEG')    \n",
    "        pg_images.append(image_filename)\n",
    "    \n",
    "    # Extract text from image version of pdf pages using EasyOCR\n",
    "    result = img_to_text(pg_images)\n",
    "    \n",
    "    # Write result to txt file\n",
    "    with open(f'{output_dir}easyocr_{pdf_filename}.txt','w',encoding='utf-8') as f:\n",
    "        f.write(result)"
   ]
  }
 ],
 "metadata": {
  "kernelspec": {
   "display_name": ".venv",
   "language": "python",
   "name": "python3"
  },
  "language_info": {
   "codemirror_mode": {
    "name": "ipython",
    "version": 3
   },
   "file_extension": ".py",
   "mimetype": "text/x-python",
   "name": "python",
   "nbconvert_exporter": "python",
   "pygments_lexer": "ipython3",
   "version": "3.12.10"
  }
 },
 "nbformat": 4,
 "nbformat_minor": 5
}
