{
 "cells": [
  {
   "cell_type": "markdown",
   "id": "8a1019dc",
   "metadata": {},
   "source": [
    "## Text Extraction Methods (OCR)\n",
    "### Example 1: Using EasyOCR to Extract Text from Images or PDFs"
   ]
  },
  {
   "cell_type": "markdown",
   "id": "ef5abc3f",
   "metadata": {},
   "source": [
    "EasyOCR is an open source Python library (like PyTesseract) used to extract text from image files. \n",
    "\n",
    "Key features:\n",
    "- **Deep learning approach:** EasyOCR leverages deep learning models, specifically Convolutional Recurrent Neural Networks (CRNN) and Connectionist Temporal Classification (CTC), for text detection and recognition.\n",
    "- **Handles Noisy and Complex Images**: Excels at recognizing text in challenging conditions: noisy images, varying fonts, complex layouts, and distorted text.\n",
    "- **Less Preprocessing Required**: Deep learning approach means less extensive image preprocessing needed\n",
    "- **GPU Support**: Supports GPU acceleration for faster processing\n",
    "\n",
    "Combining this with the pdf2image library, you can extract pages from a PDF as images, then process them with EasyOCR"
   ]
  },
  {
   "cell_type": "markdown",
   "id": "05b76e0e",
   "metadata": {},
   "source": [
    "#### Step 1: Setup libraries and global definitions"
   ]
  },
  {
   "cell_type": "markdown",
   "id": "51b9b2df",
   "metadata": {},
   "source": [
    "Install easyocr and pdf2image libraries and their dependencies. Also create a **reader** to process text of a particular language or set of languages."
   ]
  },
  {
   "cell_type": "code",
   "execution_count": 17,
   "id": "36b5bf3c",
   "metadata": {},
   "outputs": [
    {
     "name": "stderr",
     "output_type": "stream",
     "text": [
      "Neither CUDA nor MPS are available - defaulting to CPU. Note: This module is much faster with a GPU.\n"
     ]
    }
   ],
   "source": [
    "from pathlib import Path\n",
    "from PIL import Image\n",
    "import easyocr\n",
    "import os\n",
    "import pdf2image\n",
    "\n",
    "# Create an OCR reader object (indicate which languages are expected)\n",
    "reader = easyocr.Reader(['en'])"
   ]
  },
  {
   "cell_type": "markdown",
   "id": "b0eefae7",
   "metadata": {},
   "source": [
    "Define input and output directories. Place source images and pdfs in the input directory. "
   ]
  },
  {
   "cell_type": "code",
   "execution_count": 18,
   "id": "ab600456",
   "metadata": {},
   "outputs": [],
   "source": [
    "input_dir = './input/'\n",
    "output_dir = './output/'\n"
   ]
  },
  {
   "cell_type": "markdown",
   "id": "530b1eb6",
   "metadata": {},
   "source": [
    "Pull lists of image files and pdf files from the input directory."
   ]
  },
  {
   "cell_type": "code",
   "execution_count": 19,
   "id": "48449e45",
   "metadata": {},
   "outputs": [],
   "source": [
    "image_files = Path(input_dir).glob('*.jp[g|eg]')\n",
    "pdf_files = Path(input_dir).glob('*.pdf')"
   ]
  },
  {
   "cell_type": "markdown",
   "id": "cd765e2c",
   "metadata": {},
   "source": [
    "### Step 2: Define text extraction function"
   ]
  },
  {
   "cell_type": "markdown",
   "id": "9d9551da",
   "metadata": {},
   "source": [
    "Function to extract text from images using pytesseract."
   ]
  },
  {
   "cell_type": "code",
   "execution_count": 20,
   "id": "c87dc1fd",
   "metadata": {},
   "outputs": [],
   "source": [
    "def img_to_text(files):\n",
    "    extracted_text = []\n",
    "    for file in files:\n",
    "        result = reader.readtext(file)\n",
    "        for detection in result:\n",
    "            text = detection[1]\n",
    "            extracted_text.append(text)  \n",
    "            print(text)  \n",
    "\n",
    "    full_text = \"\\n\".join(extracted_text)\n",
    "    return full_text\n"
   ]
  },
  {
   "cell_type": "markdown",
   "id": "3a11c846",
   "metadata": {},
   "source": [
    "### Step 3: Process images and PDFs in input folder"
   ]
  },
  {
   "cell_type": "markdown",
   "id": "7dc9bddb",
   "metadata": {},
   "source": [
    "#### A. Extract text from images"
   ]
  },
  {
   "cell_type": "code",
   "execution_count": 22,
   "id": "16d0b721",
   "metadata": {},
   "outputs": [
    {
     "name": "stderr",
     "output_type": "stream",
     "text": [
      "c:\\Users\\neila\\Dropbox\\Projects\\DISA\\PyTesseract_Demo\\.venv\\Lib\\site-packages\\torch\\utils\\data\\dataloader.py:668: UserWarning: 'pin_memory' argument is set as true but no accelerator is found, then device pinned memory won't be used.\n",
      "  warnings.warn(warn_msg)\n"
     ]
    },
    {
     "name": "stdout",
     "output_type": "stream",
     "text": [
      "Create\n",
      "Iink back to your website: You want to direct them\n",
      "specific page or location within your website or\n",
      "Do not just direct them back to your home page:\n",
      "You must Iink them to\n",
      "specific area\n",
      "<a href=\"\n",
      "http: / /www lovelvlongbeachhomes com/bixby_knolls shtml\n",
      "\">Bixby Knolls</a>\n",
      "blog:\n"
     ]
    }
   ],
   "source": [
    "for file in image_files:    \n",
    "    img_filename = file.name[:len(file.name)-4].strip()      \n",
    "    extracted_text = []    \n",
    "    result = reader.readtext(f'{input_dir}{file.name}')\n",
    "    for detection in result:\n",
    "        text = detection[1]\n",
    "        extracted_text.append(text)          \n",
    "\n",
    "    full_text = \"\\n\".join(extracted_text)\n",
    "    print(full_text)\n",
    "    \n",
    "    # Write result to txt file\n",
    "    with open(f'{output_dir}easyocr_{img_filename}.txt','w',encoding='utf-8') as f:\n",
    "        f.write(full_text)"
   ]
  },
  {
   "cell_type": "markdown",
   "id": "d6f927a5",
   "metadata": {},
   "source": [
    "#### B. Extract text from pdfs"
   ]
  },
  {
   "cell_type": "code",
   "execution_count": 23,
   "id": "bc1e6c8b",
   "metadata": {},
   "outputs": [
    {
     "name": "stderr",
     "output_type": "stream",
     "text": [
      "c:\\Users\\neila\\Dropbox\\Projects\\DISA\\PyTesseract_Demo\\.venv\\Lib\\site-packages\\torch\\utils\\data\\dataloader.py:668: UserWarning: 'pin_memory' argument is set as true but no accelerator is found, then device pinned memory won't be used.\n",
      "  warnings.warn(warn_msg)\n"
     ]
    },
    {
     "name": "stdout",
     "output_type": "stream",
     "text": [
      "Ada Limon, THE CARRYING\n",
      "DANDELION INSOMNIA\n",
      "The big-ass bees are back, tipsy, sun drunk\n",
      "and\n",
      "with thick knitted\n",
      "warmers\n",
      "of pollen. I was up all night\n",
      "So\n",
      "today\"\n",
      "S\n",
      "yellow hours seem strange and hallucinogenic.\n",
      "The\n",
      "neighborhood is\n",
      "with mowers, crazy\n",
      "and\n",
      "mending what winter ruined.\n",
      "What I can't\n",
      "over is\n",
      "something simple, easy:\n",
      "How could a dandelion seed head seemingly\n",
      "grow\n",
      "overnight?\n",
      "A\n",
      "neighbor\n",
      "mows the\n",
      "and bam, the next morning; there'$ a hundred\n",
      "dandelion seed heads straight as arrows\n",
      "and proud as cats high above any green blade\n",
      "of manicured grass. It must\n",
      "some\n",
      "folks,\n",
      "a\n",
      "flower so\n",
      "tricky it can reproduce asexually,\n",
      "making perfect identical selves, bam, another me,\n",
      "bam, another me. I can't help it-[ root\n",
      "for that persecuted rosette so hyper in its\n",
      "own\n",
      "making it seems to devour the land.\n",
      "Even its name, translated from the French\n",
      "dent de\n",
      "means lion'$ tooth: It'$ vicious,\n",
      "made for a time that requires tenacity,a way\n",
      "of remaking the toughest self while everyone\n",
      "else is asleep:\n",
      "heavy\n",
      "leg -\n",
      "again\n",
      "lousy\n",
      "dogs,\n",
      "people\n",
      "get\n",
      "lawn\n",
      "bug\n",
      "lion,\n"
     ]
    },
    {
     "name": "stderr",
     "output_type": "stream",
     "text": [
      "c:\\Users\\neila\\Dropbox\\Projects\\DISA\\PyTesseract_Demo\\.venv\\Lib\\site-packages\\torch\\utils\\data\\dataloader.py:668: UserWarning: 'pin_memory' argument is set as true but no accelerator is found, then device pinned memory won't be used.\n",
      "  warnings.warn(warn_msg)\n"
     ]
    },
    {
     "name": "stdout",
     "output_type": "stream",
     "text": [
      "UBC\n",
      "THE\n",
      "UNIVERSITY\n",
      "BRITISH\n",
      "COLUMBIA\n",
      "School of Information\n",
      "Irving K. Barber Learning Centre\n",
      "470-1961 East Mall\n",
      "Vancouver; BC Canada V6T 1ZI\n",
      "Phone 604 822 2404\n",
      "Fax 604 822 6006\n",
      "ischool.ubcca\n",
      "PERSONAL AND CONFIDENTIAL\n",
      "April 28,2025\n",
      "Neil Aitken\n",
      "neil.aitken@ubc.ca\n",
      "RE: Offer_Letter for Graduate_Research Assistant position\n",
      "Dear Neil,\n",
      "We are pleased to offer you the position of Graduate Research Assistant in the iSchool This position\n",
      "provides an hourly rate of S30 plus a 4 % vacation entitlement and will commence upon May 1st, 2025 on\n",
      "a term basis which will conclude upon June 30th, 2025. You will be working a maximum of 4 hours per\n",
      "week: Please note that your employment is subject to you being physically located within BC during the\n",
      "term of your\n",
      "appointment. Please inform us immediately if your physical location changes during the\n",
      "term of the appointment:\n",
      "You will work under the\n",
      "supervision of Dr. Fatemeh Salehian Kia.\n",
      "As a Graduate Academic Assistant, your duties will include:\n",
      "MyLA Deployment\n",
      "Llama 3 Setup: Install, configure, and deploy Llama 3\n",
      "Learning Coach\n",
      "API & Integration: Build RAG backend and connect it to MyLA\n",
      "This letter incorporates the provisions of the British Columbia Employment Standards Act as the terms\n",
      "and conditions of your employment with the University, including those related to the termination of the\n",
      "employment relationship.\n",
      "In addition, please\n",
      "note that all University employees are expected\n",
      "to\n",
      "contribute to\n",
      "building\n",
      "respectful, safe, and productive workplace.\n",
      "Please familiarize yourself with the\n",
      "University' s policies, procedures and guidelines available here: http://universitycounsel ubc ca/policies/.\n",
      "If you\n",
      "are unable\n",
      "to\n",
      "access the above websites\n",
      "or have other special needs, please contact Human\n",
      "Resources at 604-822-8111 for assistance_\n",
      "Please complete the online privacy and information security training for all UBC Faculty and Staff. This 20\n",
      "to 30-minute training session will empower you to protect personal information and other confidential\n",
      "UBC information and systems: https lLprivacymatters ubc calcontentltraining:\n",
      "0 F\n",
      "for\n"
     ]
    },
    {
     "name": "stderr",
     "output_type": "stream",
     "text": [
      "c:\\Users\\neila\\Dropbox\\Projects\\DISA\\PyTesseract_Demo\\.venv\\Lib\\site-packages\\torch\\utils\\data\\dataloader.py:668: UserWarning: 'pin_memory' argument is set as true but no accelerator is found, then device pinned memory won't be used.\n",
      "  warnings.warn(warn_msg)\n"
     ]
    },
    {
     "name": "stdout",
     "output_type": "stream",
     "text": [
      "UBC\n",
      "THE\n",
      "UNIVERSITY\n",
      "BRITISH\n",
      "COLUMBIA\n",
      "School of Information\n",
      "Irving K. Barber Learning Centre\n",
      "470-1961 East Mall\n",
      "Vancouver; BC Canada V6T 1ZI\n",
      "Phone 604 822 2404\n",
      "Fax 604 822 6006\n",
      "ischool.ubc ca\n",
      "British   Columbia' s\n",
      "Workers   Compensation\n",
      "Act\n",
      "includes   policies addressing\n",
      "workplace\n",
      "bullying\n",
      "&\n",
      "harassment: The BC Government requires that all UBC Faculty and Staff receive training on how to\n",
      "recognize, prevent, and address workplace bullying and harassment: If you have not completed the\n",
      "training modules previously, you are required to complete the online training module before\n",
      "begin\n",
      "your\n",
      "appointment Please take a moment to do s0 and provide a copy of the certificate of completion,\n",
      "ideally, at the same time as you provide acceptance of this offer: For more information, please visit:\n",
      "https g[bullyingandharassment ubc caltraining-eventsL\n",
      "Once you have reviewed and agreed to these terms and conditions of employment, please sign and return\n",
      "this letter by April\n",
      "2025 to Nicole Chan at ischooLassistant@ubcca_\n",
      "Yours truly,\n",
      "Ewtyabtth Tlotan\n",
      "Lilly Nolan\n",
      "Administrative Manager\n",
      "have carefully reviewed and agree to the Terms and Conditions of Employment referenced in this\n",
      "letter and accept the offer of employment set out above:\n",
      "Ak\n",
      "28 April 2025\n",
      "Neil Aitken\n",
      "Date\n",
      "0 F\n",
      "you\n",
      "30th ,\n"
     ]
    }
   ],
   "source": [
    "# Convert pdf files\n",
    "for file in pdf_files:    \n",
    "    images = pdf2image.convert_from_path(file)\n",
    "    pdf_filename = file.name[:len(file.name)-4].strip()\n",
    "    pg_images = []\n",
    "    for pagenum,pagedata in enumerate(images):\n",
    "        image_filename = os.path.join(output_dir, f'{pdf_filename}_{pagenum+1}.jpg')\n",
    "        pagedata.save(image_filename,'JPEG')    \n",
    "        pg_images.append(image_filename)\n",
    "    \n",
    "    # Extract text from image version of pdf pages using EasyOCR\n",
    "    result = img_to_text(pg_images)\n",
    "    \n",
    "    # Write result to txt file\n",
    "    with open(f'{output_dir}easyocr_{pdf_filename}.txt','w',encoding='utf-8') as f:\n",
    "        f.write(result)"
   ]
  }
 ],
 "metadata": {
  "kernelspec": {
   "display_name": ".venv",
   "language": "python",
   "name": "python3"
  },
  "language_info": {
   "codemirror_mode": {
    "name": "ipython",
    "version": 3
   },
   "file_extension": ".py",
   "mimetype": "text/x-python",
   "name": "python",
   "nbconvert_exporter": "python",
   "pygments_lexer": "ipython3",
   "version": "3.12.10"
  }
 },
 "nbformat": 4,
 "nbformat_minor": 5
}
