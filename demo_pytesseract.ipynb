{
 "cells": [
  {
   "cell_type": "markdown",
   "id": "8a1019dc",
   "metadata": {},
   "source": [
    "## Text Extraction Methods (OCR)\n",
    "### Example 1: Using PyTesseract to Extract Text from Images or PDFs"
   ]
  },
  {
   "cell_type": "markdown",
   "id": "ef5abc3f",
   "metadata": {},
   "source": [
    "PyTesseract is an open source Python library used to extract text from image files. Built as a wrapper for Google's Tesseract OCR engine, it relies on traditional image processing techniques and pattern matching for character recognition. PyTesseract performs well on high-resolution, clean images with clear text and simple layouts. Preprocessing (image cleanup, noise reduction, deskewing) is required. \n",
    "\n",
    "Combining PyTesseract with the pdf2image library, you can extract pages from a PDF as images, then process them with PyTesseract"
   ]
  },
  {
   "cell_type": "markdown",
   "id": "05b76e0e",
   "metadata": {},
   "source": [
    "#### Step 1: Setup libraries and global definitions"
   ]
  },
  {
   "cell_type": "markdown",
   "id": "51b9b2df",
   "metadata": {},
   "source": [
    "Install pytesseract and pdf2image libraries and their dependencies"
   ]
  },
  {
   "cell_type": "code",
   "execution_count": null,
   "id": "36b5bf3c",
   "metadata": {},
   "outputs": [],
   "source": [
    "from pathlib import Path\n",
    "from PIL import Image\n",
    "import pytesseract\n",
    "import pdf2image"
   ]
  },
  {
   "cell_type": "markdown",
   "id": "b0eefae7",
   "metadata": {},
   "source": [
    "Define input and output directories. Place source images and pdfs in the input directory. "
   ]
  },
  {
   "cell_type": "code",
   "execution_count": 2,
   "id": "ab600456",
   "metadata": {},
   "outputs": [],
   "source": [
    "input_dir = './input/'\n",
    "output_dir = './output/'\n"
   ]
  },
  {
   "cell_type": "markdown",
   "id": "530b1eb6",
   "metadata": {},
   "source": [
    "Pull lists of image files and pdf files from the input directory."
   ]
  },
  {
   "cell_type": "code",
   "execution_count": 3,
   "id": "48449e45",
   "metadata": {},
   "outputs": [],
   "source": [
    "image_files = Path(input_dir).glob('*.jp[g|eg]')\n",
    "pdf_files = Path(input_dir).glob('*.pdf')"
   ]
  },
  {
   "cell_type": "markdown",
   "id": "801be22b",
   "metadata": {},
   "source": [
    "### Step 2: Define function for text extraction"
   ]
  },
  {
   "cell_type": "markdown",
   "id": "9d9551da",
   "metadata": {},
   "source": [
    "Function to extract text from images using pytesseract."
   ]
  },
  {
   "cell_type": "code",
   "execution_count": 4,
   "id": "c87dc1fd",
   "metadata": {},
   "outputs": [],
   "source": [
    "def img_to_text(images):\n",
    "    extracted_text = []\n",
    "    for pagenum,pagedata in enumerate(images):\n",
    "        text = pytesseract.image_to_string(pagedata)\n",
    "        extracted_text.append(f\"--- Page {pagenum+1} ---\\n\")\n",
    "        extracted_text.append(str(text)+'\\n')\n",
    "    full_text = \"\\n\".join(extracted_text)\n",
    "    return full_text\n"
   ]
  },
  {
   "cell_type": "markdown",
   "id": "c04d53fa",
   "metadata": {},
   "source": [
    "### Step 3: Process images and PDFs in input folder"
   ]
  },
  {
   "cell_type": "markdown",
   "id": "7dc9bddb",
   "metadata": {},
   "source": [
    "#### A. Extract text from images"
   ]
  },
  {
   "cell_type": "code",
   "execution_count": 5,
   "id": "16d0b721",
   "metadata": {},
   "outputs": [],
   "source": [
    "for file in image_files:    \n",
    "    img_filename = file.name[:len(file.name)-4].strip()  \n",
    "    result = pytesseract.image_to_string(Image.open(file))\n",
    "    \n",
    "    # Write result to txt file\n",
    "    with open(f'pytess_{img_filename}.txt','w',encoding='utf-8') as f:\n",
    "        f.write(result)"
   ]
  },
  {
   "cell_type": "markdown",
   "id": "d6f927a5",
   "metadata": {},
   "source": [
    "#### B. Extract text from pdfs"
   ]
  },
  {
   "cell_type": "code",
   "execution_count": 7,
   "id": "bc1e6c8b",
   "metadata": {},
   "outputs": [],
   "source": [
    "# Convert pdf files\n",
    "for file in pdf_files:  \n",
    "    pdf_filename = file.name[:len(file.name)-4].strip()  \n",
    "    images = pdf2image.convert_from_path(file)\n",
    "    result = img_to_text(images)\n",
    "    \n",
    "    # Write result to txt file\n",
    "    with open(f'{output_dir}_pytess_{pdf_filename}.txt','w',encoding='utf-8') as f:\n",
    "        f.write(result)"
   ]
  }
 ],
 "metadata": {
  "kernelspec": {
   "display_name": ".venv",
   "language": "python",
   "name": "python3"
  },
  "language_info": {
   "codemirror_mode": {
    "name": "ipython",
    "version": 3
   },
   "file_extension": ".py",
   "mimetype": "text/x-python",
   "name": "python",
   "nbconvert_exporter": "python",
   "pygments_lexer": "ipython3",
   "version": "3.12.10"
  }
 },
 "nbformat": 4,
 "nbformat_minor": 5
}
